{
 "cells": [
  {
   "cell_type": "markdown",
   "metadata": {},
   "source": [
    "[Advanced R, Metaprogramming](https://adv-r.hadley.nz/meta.html)\n",
    "\n",
    "Author for this note: Yvette Li    \n",
    "Record date: March 28, 2018"
   ]
  },
  {
   "cell_type": "markdown",
   "metadata": {},
   "source": [
    "# Motivation"
   ]
  },
  {
   "cell_type": "markdown",
   "metadata": {},
   "source": [
    "Rlang library is a powerful tool when you want to write functions with R. Since tidyverse uses non-standard evaluation, if a variable, whose value is a column name, is passed, the variable name will be interpreted literally and the value is not extracted with the usual practice. Also, scoping issue may also associate with evaluating a variable. Base R has quite a few ways for writing programs in R (not just analyze data interactively), and a more specific explanations can be found [here](http://adv-r.had.co.nz/Computing-on-the-language.html). \n",
    "\n",
    "I found *Advanced R* helpful, but if one wants to read just one section or chapter, the terminology used can be rather confusing since the book defines quite a few terms to explain the behaviours of R, R structure and functions in rlang. I highly recommend to read the whole section before using it. This note is a more condensed version of the section but it does **not** summarize all the information from the book. It serves the purpose of searching some definitions with examples when one encounters unfamiliar terms in the book, or wants a quicker (but not thorough) introduction to the library.\n",
    "\n",
    "The newest version of rlang (0.2.0) was out on February 28, 2018, some functions are soft deprecated in this version of rlang. There are not many posts about the updates of this libary at the time I am writing this note. Being aware of the danger of using strings to manipulate expressions, I used the newest rlang library with stringr to write many expressions. After reading the book and some old blog posts once again, I decided to re-write some codes here to show safer practices and more robust programs. If you only wish to see some common practices I used, please go to section **\"Common Practice in Survey Data\"**.\n",
    "\n",
    "\n",
    "---"
   ]
  },
  {
   "cell_type": "markdown",
   "metadata": {},
   "source": [
    "# Metaprogramming"
   ]
  },
  {
   "cell_type": "markdown",
   "metadata": {},
   "source": [
    "In R, functions that use metaprogramming are commonly said to use non-standard evaluation (NSE)   \n",
    "\n",
    "Two primary uses of metaprogramming are:\n",
    "- trade precision for concision in functions like ```subset()``` and ```dplyr::filter()``` that make interactive data exploration faster at the cost of introducing some ambiguity\n",
    "- build <strong>domain specific languages </strong> (DSLs) that tailor R’s semantics to specific problem domains like visualisation or data manipulation.\n",
    "\n",
    "---"
   ]
  },
  {
   "cell_type": "markdown",
   "metadata": {},
   "source": [
    "# 1. Introduction"
   ]
  },
  {
   "cell_type": "markdown",
   "metadata": {},
   "source": [
    "## 1.1 Trading Precision for Concision"
   ]
  },
  {
   "cell_type": "markdown",
   "metadata": {},
   "source": [
    "Metaprogramming allows you to use names of variables in a dataframe as if they were objects in the environment. This makes interactive exploration more fluid at the cost of introducing some minor ambiguity."
   ]
  },
  {
   "cell_type": "code",
   "execution_count": 81,
   "metadata": {},
   "outputs": [
    {
     "data": {
      "text/html": [
       "<table>\n",
       "<thead><tr><th></th><th scope=col>carat</th><th scope=col>cut</th><th scope=col>color</th><th scope=col>clarity</th><th scope=col>depth</th><th scope=col>table</th><th scope=col>price</th><th scope=col>x</th><th scope=col>y</th><th scope=col>z</th></tr></thead>\n",
       "<tbody>\n",
       "\t<tr><th scope=row>11964</th><td>1.00     </td><td>Very Good</td><td>H        </td><td>VS2      </td><td>63.3     </td><td>53       </td><td> 5139    </td><td>0        </td><td>0        </td><td>0        </td></tr>\n",
       "\t<tr><th scope=row>15952</th><td>1.14     </td><td>Fair     </td><td>G        </td><td>VS1      </td><td>57.5     </td><td>67       </td><td> 6381    </td><td>0        </td><td>0        </td><td>0        </td></tr>\n",
       "\t<tr><th scope=row>24521</th><td>1.56     </td><td>Ideal    </td><td>G        </td><td>VS2      </td><td>62.2     </td><td>54       </td><td>12800    </td><td>0        </td><td>0        </td><td>0        </td></tr>\n",
       "\t<tr><th scope=row>26244</th><td>1.20     </td><td>Premium  </td><td>D        </td><td>VVS1     </td><td>62.1     </td><td>59       </td><td>15686    </td><td>0        </td><td>0        </td><td>0        </td></tr>\n",
       "\t<tr><th scope=row>27430</th><td>2.25     </td><td>Premium  </td><td>H        </td><td>SI2      </td><td>62.8     </td><td>59       </td><td>18034    </td><td>0        </td><td>0        </td><td>0        </td></tr>\n",
       "\t<tr><th scope=row>49557</th><td>0.71     </td><td>Good     </td><td>F        </td><td>SI2      </td><td>64.1     </td><td>60       </td><td> 2130    </td><td>0        </td><td>0        </td><td>0        </td></tr>\n",
       "\t<tr><th scope=row>49558</th><td>0.71     </td><td>Good     </td><td>F        </td><td>SI2      </td><td>64.1     </td><td>60       </td><td> 2130    </td><td>0        </td><td>0        </td><td>0        </td></tr>\n",
       "</tbody>\n",
       "</table>\n"
      ],
      "text/latex": [
       "\\begin{tabular}{r|llllllllll}\n",
       "  & carat & cut & color & clarity & depth & table & price & x & y & z\\\\\n",
       "\\hline\n",
       "\t11964 & 1.00      & Very Good & H         & VS2       & 63.3      & 53        &  5139     & 0         & 0         & 0        \\\\\n",
       "\t15952 & 1.14      & Fair      & G         & VS1       & 57.5      & 67        &  6381     & 0         & 0         & 0        \\\\\n",
       "\t24521 & 1.56      & Ideal     & G         & VS2       & 62.2      & 54        & 12800     & 0         & 0         & 0        \\\\\n",
       "\t26244 & 1.20      & Premium   & D         & VVS1      & 62.1      & 59        & 15686     & 0         & 0         & 0        \\\\\n",
       "\t27430 & 2.25      & Premium   & H         & SI2       & 62.8      & 59        & 18034     & 0         & 0         & 0        \\\\\n",
       "\t49557 & 0.71      & Good      & F         & SI2       & 64.1      & 60        &  2130     & 0         & 0         & 0        \\\\\n",
       "\t49558 & 0.71      & Good      & F         & SI2       & 64.1      & 60        &  2130     & 0         & 0         & 0        \\\\\n",
       "\\end{tabular}\n"
      ],
      "text/markdown": [
       "\n",
       "| <!--/--> | carat | cut | color | clarity | depth | table | price | x | y | z | \n",
       "|---|---|---|---|---|---|---|\n",
       "| 11964 | 1.00      | Very Good | H         | VS2       | 63.3      | 53        |  5139     | 0         | 0         | 0         | \n",
       "| 15952 | 1.14      | Fair      | G         | VS1       | 57.5      | 67        |  6381     | 0         | 0         | 0         | \n",
       "| 24521 | 1.56      | Ideal     | G         | VS2       | 62.2      | 54        | 12800     | 0         | 0         | 0         | \n",
       "| 26244 | 1.20      | Premium   | D         | VVS1      | 62.1      | 59        | 15686     | 0         | 0         | 0         | \n",
       "| 27430 | 2.25      | Premium   | H         | SI2       | 62.8      | 59        | 18034     | 0         | 0         | 0         | \n",
       "| 49557 | 0.71      | Good      | F         | SI2       | 64.1      | 60        |  2130     | 0         | 0         | 0         | \n",
       "| 49558 | 0.71      | Good      | F         | SI2       | 64.1      | 60        |  2130     | 0         | 0         | 0         | \n",
       "\n",
       "\n"
      ],
      "text/plain": [
       "      carat cut       color clarity depth table price x y z\n",
       "11964 1.00  Very Good H     VS2     63.3  53     5139 0 0 0\n",
       "15952 1.14  Fair      G     VS1     57.5  67     6381 0 0 0\n",
       "24521 1.56  Ideal     G     VS2     62.2  54    12800 0 0 0\n",
       "26244 1.20  Premium   D     VVS1    62.1  59    15686 0 0 0\n",
       "27430 2.25  Premium   H     SI2     62.8  59    18034 0 0 0\n",
       "49557 0.71  Good      F     SI2     64.1  60     2130 0 0 0\n",
       "49558 0.71  Good      F     SI2     64.1  60     2130 0 0 0"
      ]
     },
     "metadata": {},
     "output_type": "display_data"
    },
    {
     "data": {
      "text/html": [
       "<table>\n",
       "<thead><tr><th></th><th scope=col>carat</th><th scope=col>cut</th><th scope=col>color</th><th scope=col>clarity</th><th scope=col>depth</th><th scope=col>table</th><th scope=col>price</th><th scope=col>x</th><th scope=col>y</th><th scope=col>z</th></tr></thead>\n",
       "<tbody>\n",
       "\t<tr><th scope=row>11964</th><td>1.00     </td><td>Very Good</td><td>H        </td><td>VS2      </td><td>63.3     </td><td>53       </td><td> 5139    </td><td>0        </td><td>0        </td><td>0        </td></tr>\n",
       "\t<tr><th scope=row>15952</th><td>1.14     </td><td>Fair     </td><td>G        </td><td>VS1      </td><td>57.5     </td><td>67       </td><td> 6381    </td><td>0        </td><td>0        </td><td>0        </td></tr>\n",
       "\t<tr><th scope=row>24521</th><td>1.56     </td><td>Ideal    </td><td>G        </td><td>VS2      </td><td>62.2     </td><td>54       </td><td>12800    </td><td>0        </td><td>0        </td><td>0        </td></tr>\n",
       "\t<tr><th scope=row>26244</th><td>1.20     </td><td>Premium  </td><td>D        </td><td>VVS1     </td><td>62.1     </td><td>59       </td><td>15686    </td><td>0        </td><td>0        </td><td>0        </td></tr>\n",
       "\t<tr><th scope=row>27430</th><td>2.25     </td><td>Premium  </td><td>H        </td><td>SI2      </td><td>62.8     </td><td>59       </td><td>18034    </td><td>0        </td><td>0        </td><td>0        </td></tr>\n",
       "\t<tr><th scope=row>49557</th><td>0.71     </td><td>Good     </td><td>F        </td><td>SI2      </td><td>64.1     </td><td>60       </td><td> 2130    </td><td>0        </td><td>0        </td><td>0        </td></tr>\n",
       "\t<tr><th scope=row>49558</th><td>0.71     </td><td>Good     </td><td>F        </td><td>SI2      </td><td>64.1     </td><td>60       </td><td> 2130    </td><td>0        </td><td>0        </td><td>0        </td></tr>\n",
       "</tbody>\n",
       "</table>\n"
      ],
      "text/latex": [
       "\\begin{tabular}{r|llllllllll}\n",
       "  & carat & cut & color & clarity & depth & table & price & x & y & z\\\\\n",
       "\\hline\n",
       "\t11964 & 1.00      & Very Good & H         & VS2       & 63.3      & 53        &  5139     & 0         & 0         & 0        \\\\\n",
       "\t15952 & 1.14      & Fair      & G         & VS1       & 57.5      & 67        &  6381     & 0         & 0         & 0        \\\\\n",
       "\t24521 & 1.56      & Ideal     & G         & VS2       & 62.2      & 54        & 12800     & 0         & 0         & 0        \\\\\n",
       "\t26244 & 1.20      & Premium   & D         & VVS1      & 62.1      & 59        & 15686     & 0         & 0         & 0        \\\\\n",
       "\t27430 & 2.25      & Premium   & H         & SI2       & 62.8      & 59        & 18034     & 0         & 0         & 0        \\\\\n",
       "\t49557 & 0.71      & Good      & F         & SI2       & 64.1      & 60        &  2130     & 0         & 0         & 0        \\\\\n",
       "\t49558 & 0.71      & Good      & F         & SI2       & 64.1      & 60        &  2130     & 0         & 0         & 0        \\\\\n",
       "\\end{tabular}\n"
      ],
      "text/markdown": [
       "\n",
       "| <!--/--> | carat | cut | color | clarity | depth | table | price | x | y | z | \n",
       "|---|---|---|---|---|---|---|\n",
       "| 11964 | 1.00      | Very Good | H         | VS2       | 63.3      | 53        |  5139     | 0         | 0         | 0         | \n",
       "| 15952 | 1.14      | Fair      | G         | VS1       | 57.5      | 67        |  6381     | 0         | 0         | 0         | \n",
       "| 24521 | 1.56      | Ideal     | G         | VS2       | 62.2      | 54        | 12800     | 0         | 0         | 0         | \n",
       "| 26244 | 1.20      | Premium   | D         | VVS1      | 62.1      | 59        | 15686     | 0         | 0         | 0         | \n",
       "| 27430 | 2.25      | Premium   | H         | SI2       | 62.8      | 59        | 18034     | 0         | 0         | 0         | \n",
       "| 49557 | 0.71      | Good      | F         | SI2       | 64.1      | 60        |  2130     | 0         | 0         | 0         | \n",
       "| 49558 | 0.71      | Good      | F         | SI2       | 64.1      | 60        |  2130     | 0         | 0         | 0         | \n",
       "\n",
       "\n"
      ],
      "text/plain": [
       "      carat cut       color clarity depth table price x y z\n",
       "11964 1.00  Very Good H     VS2     63.3  53     5139 0 0 0\n",
       "15952 1.14  Fair      G     VS1     57.5  67     6381 0 0 0\n",
       "24521 1.56  Ideal     G     VS2     62.2  54    12800 0 0 0\n",
       "26244 1.20  Premium   D     VVS1    62.1  59    15686 0 0 0\n",
       "27430 2.25  Premium   H     SI2     62.8  59    18034 0 0 0\n",
       "49557 0.71  Good      F     SI2     64.1  60     2130 0 0 0\n",
       "49558 0.71  Good      F     SI2     64.1  60     2130 0 0 0"
      ]
     },
     "metadata": {},
     "output_type": "display_data"
    }
   ],
   "source": [
    "## eg\n",
    "data(\"diamonds\", package=\"ggplot2\")\n",
    "subset(diamonds, x==0 & y ==0 & z==0)\n",
    "diamonds[diamonds$x == 0 & diamonds$y == 0 & diamonds$z == 0, ]"
   ]
  },
  {
   "cell_type": "markdown",
   "metadata": {},
   "source": [
    "In above example, x, y and z are the columns in the diamonds data frame. Subset is also considerably shorter than the equivalent code using \\[ and \\$."
   ]
  },
  {
   "cell_type": "markdown",
   "metadata": {},
   "source": [
    "## 1.2 Domain Specific Languages"
   ]
  },
  {
   "cell_type": "markdown",
   "metadata": {},
   "source": [
    "DSLs are useful because they make it possible to translate R code into another language."
   ]
  },
  {
   "cell_type": "code",
   "execution_count": 6,
   "metadata": {},
   "outputs": [
    {
     "name": "stderr",
     "output_type": "stream",
     "text": [
      "\n",
      "Attaching package: 'dplyr'\n",
      "\n",
      "The following objects are masked from 'package:stats':\n",
      "\n",
      "    filter, lag\n",
      "\n",
      "The following objects are masked from 'package:base':\n",
      "\n",
      "    intersect, setdiff, setequal, union\n",
      "\n",
      "<SQL>\n",
      "SELECT `mpg`, `cyl`, `disp`, `hp`\n",
      "FROM `mtcars`\n",
      "WHERE (`cyl` > 2.0)\n",
      "LIMIT 10\n"
     ]
    }
   ],
   "source": [
    "library(dplyr)\n",
    "\n",
    "con <- DBI::dbConnect(RSQLite::SQLite(), filename = \":memory:\")\n",
    "mtcars_db <- copy_to(con, mtcars)\n",
    "\n",
    "mtcars_db %>%\n",
    "  filter(cyl > 2) %>%\n",
    "  select(mpg:hp) %>%\n",
    "  head(10) %>%\n",
    "  show_query()\n",
    "#> <SQL>\n",
    "#> SELECT `mpg`, `cyl`, `disp`, `hp`\n",
    "#> FROM `mtcars`\n",
    "#> WHERE (`cyl` > 2.0)\n",
    "#> LIMIT 10\n",
    "\n",
    "DBI::dbDisconnect(con)"
   ]
  },
  {
   "cell_type": "markdown",
   "metadata": {},
   "source": [
    "ggplot2 and dplyr are known as <strong>embedded DSLs</strong>, because they take advantage of R’s parsing and execution framework, but tailor R’s semantics for specific tasks."
   ]
  },
  {
   "cell_type": "markdown",
   "metadata": {},
   "source": [
    "# 2. Expressions"
   ]
  },
  {
   "cell_type": "markdown",
   "metadata": {},
   "source": [
    "## 2.1 Abstract Syntax Trees"
   ]
  },
  {
   "cell_type": "markdown",
   "metadata": {},
   "source": [
    "AST is one of the following\n",
    "- Constants and symbols form the leaves of the tree.\n",
    "- Calls form the branches of the tree.\n",
    "- Pairlists are a largely historical data structure that are now only used for function arguments.\n",
    "\n",
    "Quoted expressions are called Abstract Syntax Trees (AST) because the structure of code is hierarchical and can be naturally represented as a tree."
   ]
  },
  {
   "cell_type": "code",
   "execution_count": 11,
   "metadata": {},
   "outputs": [
    {
     "data": {
      "text/plain": [
       "o-f \n",
       "+-x \n",
       "+-\"y\" \n",
       "\\-1 "
      ]
     },
     "metadata": {},
     "output_type": "display_data"
    }
   ],
   "source": [
    "## example\n",
    "lobstr::ast(f(x, \"y\", 1))"
   ]
  },
  {
   "cell_type": "markdown",
   "metadata": {},
   "source": [
    "### 2.1.1 Infix vs prefix calls\n",
    "- Infix functions come in between their arguments. infix form: <- and \\*.\n",
    "- Prefix functions: name of the function comes first"
   ]
  },
  {
   "cell_type": "code",
   "execution_count": 16,
   "metadata": {},
   "outputs": [
    {
     "data": {
      "text/plain": [
       "o-`<-` \n",
       "+-y \n",
       "\\-o-`*` \n",
       "  +-x \n",
       "  \\-10 "
      ]
     },
     "metadata": {},
     "output_type": "display_data"
    }
   ],
   "source": [
    "## Two equivalent lines\n",
    "\n",
    "# y <- x * 10\n",
    "# `<-` (y, `*`(x, 10)\n",
    "lobstr::ast(y <- x *10)"
   ]
  },
  {
   "cell_type": "markdown",
   "metadata": {},
   "source": [
    "### 2.1.2 Associativity"
   ]
  },
  {
   "cell_type": "markdown",
   "metadata": {},
   "source": [
    "In R, most operators are left-associative. Operations on the left are evaluated first"
   ]
  },
  {
   "cell_type": "code",
   "execution_count": 17,
   "metadata": {},
   "outputs": [
    {
     "data": {
      "text/plain": [
       "o-`+` \n",
       "+-o-`+` \n",
       "| +-1 \n",
       "| \\-2 \n",
       "\\-3 "
      ]
     },
     "metadata": {},
     "output_type": "display_data"
    }
   ],
   "source": [
    "lobstr::ast(1+2+3)"
   ]
  },
  {
   "cell_type": "markdown",
   "metadata": {},
   "source": [
    "## 2.2 Data Structures"
   ]
  },
  {
   "cell_type": "markdown",
   "metadata": {},
   "source": [
    "Note 1: In base R, \"expression\" is a special type that is basically equivalent to a list of what we call expressions. We call these \"expression objects\".    \n",
    "Note 2: Base R does not have an equivalent term for \"expression\". The closest is \"language object\"."
   ]
  },
  {
   "cell_type": "markdown",
   "metadata": {},
   "source": [
    "<strong> Constants </strong><br>\n",
    "Constants occured in the leaves of the AST. They are the simplest data structure found in the AST because they are atomic vectors of length 1. Constants are “self-quoting” in the sense that the expression used to represent a constant is the constant itself:"
   ]
  },
  {
   "cell_type": "code",
   "execution_count": 8,
   "metadata": {},
   "outputs": [
    {
     "data": {
      "text/html": [
       "TRUE"
      ],
      "text/latex": [
       "TRUE"
      ],
      "text/markdown": [
       "TRUE"
      ],
      "text/plain": [
       "[1] TRUE"
      ]
     },
     "metadata": {},
     "output_type": "display_data"
    },
    {
     "data": {
      "text/html": [
       "TRUE"
      ],
      "text/latex": [
       "TRUE"
      ],
      "text/markdown": [
       "TRUE"
      ],
      "text/plain": [
       "[1] TRUE"
      ]
     },
     "metadata": {},
     "output_type": "display_data"
    },
    {
     "data": {
      "text/html": [
       "TRUE"
      ],
      "text/latex": [
       "TRUE"
      ],
      "text/markdown": [
       "TRUE"
      ],
      "text/plain": [
       "[1] TRUE"
      ]
     },
     "metadata": {},
     "output_type": "display_data"
    },
    {
     "data": {
      "text/html": [
       "TRUE"
      ],
      "text/latex": [
       "TRUE"
      ],
      "text/markdown": [
       "TRUE"
      ],
      "text/plain": [
       "[1] TRUE"
      ]
     },
     "metadata": {},
     "output_type": "display_data"
    }
   ],
   "source": [
    "library(rlang)\n",
    "\n",
    "identical(expr(\"x\"), \"x\")    \n",
    "identical(expr(TRUE), TRUE)     \n",
    "identical(expr(1), 1)        \n",
    "identical(expr(2), 2)      "
   ]
  },
  {
   "cell_type": "markdown",
   "metadata": {},
   "source": [
    "<strong>Symbols</strong> <br>\n",
    "- Symbols represent variable names. They are basically a single string stored in a special way.\n",
    "- Symbols are scalars (put multiple symbols in a list)\n",
    "- Difference between string and symbols\n",
    "    - evaluate a string -> string\n",
    "    - evaluate a symbol -> value associate with the symbol in the current environment"
   ]
  },
  {
   "cell_type": "code",
   "execution_count": 4,
   "metadata": {},
   "outputs": [
    {
     "ename": "ERROR",
     "evalue": "Error in missing_arg(): could not find function \"missing_arg\"\n",
     "output_type": "error",
     "traceback": [
      "Error in missing_arg(): could not find function \"missing_arg\"\nTraceback:\n"
     ]
    }
   ],
   "source": [
    "## Exception Case\n",
    "missing_arg()\n",
    "invisible(typeof(missing_arg()))\n",
    "#> [1] \"symbol\"\n",
    "invisible(as_string(missing_arg()))\n",
    "#> [1] \"\"\n",
    "# And see if you have a missing symbol with rlang::is_missing():\n",
    "\n",
    "invisible(is_missing(missing_arg()))\n",
    "#> [1] TRUE\n",
    "# This symbol has a peculiar propery: if you bind it to a variable, then access that variable, you will get an error:\n",
    "\n",
    "m1 <- missing_arg()\n",
    "# m1\n",
    "#> Error in eval(expr, envir, enclos): argument \"m1\" is missing, with no default\n",
    "# But you won’t get an error if it’s stored inside another data structure!\n",
    "\n",
    "m2 <- list(missing_arg())\n",
    "m2[[1]]"
   ]
  },
  {
   "cell_type": "markdown",
   "metadata": {},
   "source": [
    "<strong> Calls </strong> <br>\n",
    "Calls define the tree in AST. A call behaves similarly to a list:\n",
    "\n",
    "- It has a length().\n",
    "- You can extract elements with \\[\\[, \\[, and \\$.\n",
    "- Calls can contain other calls"
   ]
  },
  {
   "cell_type": "code",
   "execution_count": 10,
   "metadata": {},
   "outputs": [],
   "source": [
    "x <- expr(read.table(\"important.csv\", row = FALSE))\n",
    "invisible(lobstr::ast(!!x))\n",
    "# o-read.table \n",
    "# +-\"important.csv\" \n",
    "# \\-row = FALSE \n",
    "\n",
    "## Get the number of arguments\n",
    "invisible(length(x) - 1)\n",
    "# 2\n",
    "\n",
    "## The names of a call are empty, except for named arguments:\n",
    "invisible(names(x))\n",
    "# '' '' 'row'\n",
    "\n",
    "## Extract the leaves of the call by position and by name using [[ and $ in the usual way:\n",
    "invisible(x[[1]])\n",
    "# read.table\n",
    "invisible(x[[2]])\n",
    "# 'important.csv'\n",
    "invisible(x[[3]])\n",
    "# FALSE"
   ]
  },
  {
   "cell_type": "markdown",
   "metadata": {},
   "source": [
    "## 2.3 Parsing and Deparsing"
   ]
  },
  {
   "cell_type": "markdown",
   "metadata": {},
   "source": [
    "### 2.3.1 Parsing"
   ]
  },
  {
   "cell_type": "code",
   "execution_count": 16,
   "metadata": {},
   "outputs": [
    {
     "data": {
      "text/plain": [
       "\" y <- x+10\" "
      ]
     },
     "metadata": {},
     "output_type": "display_data"
    }
   ],
   "source": [
    "x1 <- \" y <- x+10\"\n",
    "lobstr::ast(!!x1)"
   ]
  },
  {
   "cell_type": "code",
   "execution_count": 17,
   "metadata": {},
   "outputs": [
    {
     "data": {
      "text/plain": [
       "o-`<-` \n",
       "+-y \n",
       "\\-o-`+` \n",
       "  +-x \n",
       "  \\-10 "
      ]
     },
     "metadata": {},
     "output_type": "display_data"
    }
   ],
   "source": [
    "x2 <- rlang::parse_expr(x1)\n",
    "invisible(x2)\n",
    "#> y <- x + 10\n",
    "lobstr::ast(!!x2)"
   ]
  },
  {
   "cell_type": "markdown",
   "metadata": {},
   "source": [
    "### 2.3.2 Deparsing\n",
    "- Deparsing is used when you need a string from expression.    \n",
    "- Parsing and Deparsing can be both symmetrical or asymmetrical.\n",
    "- Deparsing is often used to provide default names for data structures (like data frames), and default labels for messages or other output."
   ]
  },
  {
   "cell_type": "code",
   "execution_count": 18,
   "metadata": {},
   "outputs": [
    {
     "data": {
      "text/html": [
       "'y &lt;- x + 10'"
      ],
      "text/latex": [
       "'y <- x + 10'"
      ],
      "text/markdown": [
       "'y &lt;- x + 10'"
      ],
      "text/plain": [
       "[1] \"y <- x + 10\""
      ]
     },
     "metadata": {},
     "output_type": "display_data"
    }
   ],
   "source": [
    "z <- expr(y <- x + 10)\n",
    "expr_text(z)"
   ]
  },
  {
   "cell_type": "code",
   "execution_count": 26,
   "metadata": {
    "scrolled": true
   },
   "outputs": [
    {
     "data": {
      "text/html": [
       "'f(x, y, z)'"
      ],
      "text/latex": [
       "'f(x, y, z)'"
      ],
      "text/markdown": [
       "'f(x, y, z)'"
      ],
      "text/plain": [
       "[1] \"f(x, y, z)\""
      ]
     },
     "metadata": {},
     "output_type": "display_data"
    },
    {
     "data": {
      "text/html": [
       "'`f(x, y, z)`'"
      ],
      "text/latex": [
       "'`f(x, y, z)`'"
      ],
      "text/markdown": [
       "'`f(x, y, z)`'"
      ],
      "text/plain": [
       "[1] \"`f(x, y, z)`\""
      ]
     },
     "metadata": {},
     "output_type": "display_data"
    }
   ],
   "source": [
    "z <- expr(f(x, y, z))\n",
    "expr_name(z)\n",
    "expr_label(z)"
   ]
  },
  {
   "cell_type": "markdown",
   "metadata": {},
   "source": [
    "Base R has a function, deparse(), which returns a character vector with one element for each line.\n",
    "- Rememebr that the length of the output might be greater than 1"
   ]
  },
  {
   "cell_type": "markdown",
   "metadata": {},
   "source": [
    "<strong> Long Expressions </strong> <br>\n",
    "deparse() produces vectors when the input is long."
   ]
  },
  {
   "cell_type": "code",
   "execution_count": 33,
   "metadata": {},
   "outputs": [],
   "source": [
    "expr <- expr(g(a + b + c + d + e + f + g + h + i + j + k + l + m +\n",
    "  n + o + p + q + r + s + t + u + v + w + x + y + z))\n",
    "\n",
    "invisible(expr_text(expr))\n",
    "# 'g(a + b + c + d + e + f + g + h + i + j + k + l + m + n + o + \\n    p + q + r + s + t + u + v + w + x + y + z)'\n",
    "invisible(expr_name(expr))\n",
    "# 'g(...)'\n",
    "invisible(expr_label(expr))\n",
    "# '`g(...)`'"
   ]
  },
  {
   "cell_type": "markdown",
   "metadata": {},
   "source": [
    "# 3. Quasiquotation"
   ]
  },
  {
   "cell_type": "markdown",
   "metadata": {},
   "source": [
    "Two sides of quasiquotation\n",
    "- <strong>Quotation </strong> allows you to capture the AST associated with an argument. As a function author, this gives you a lot of power to influence how expressions are evaluated.\n",
    "\n",
    "- <strong>Unquotation </strong> allows you to selectively evaluate parts of a quoted expression. This is a powerful tool that makes it easy to build up a complex AST from simpler fragments.\n",
    "\n",
    "- An <strong> evaluated </strong> argument obeys R's usual evaluation rules.\n",
    "- A <strong> quoted </strong> argument is captured by the function and cannot be executed outside of the function."
   ]
  },
  {
   "cell_type": "markdown",
   "metadata": {},
   "source": [
    "## 3.1 Quotation"
   ]
  },
  {
   "cell_type": "markdown",
   "metadata": {},
   "source": [
    "### Quotation with rlang"
   ]
  },
  {
   "cell_type": "markdown",
   "metadata": {},
   "source": [
    "Two components with quotation\n",
    "1. capturing an expression directly (functions without en-)\n",
    "2. capturing from an lazily-evaluated function argument (functions with en-)"
   ]
  },
  {
   "cell_type": "markdown",
   "metadata": {},
   "source": [
    "|         \t| expr()    \t| sym()    \t|\n",
    "|---------\t|-----------\t|----------\t|\n",
    "| direct  \t| expr()    \t| sym()    \t|\n",
    "| direct  \t| exprs()   \t| syms()   \t|\n",
    "| fun arg \t| enexpr()  \t| ensym()  \t|\n",
    "| fun arg \t| enexprs() \t| ensyms() \t|"
   ]
  },
  {
   "cell_type": "markdown",
   "metadata": {},
   "source": [
    "###  Capturing an expression directly     \n",
    "In the following function f1, x is passed to expr(x). Expr() takes in the variable and capture the argument exactly.\n",
    "Expr() is great for interactive exploration, because it captures what developer types."
   ]
  },
  {
   "cell_type": "code",
   "execution_count": 9,
   "metadata": {},
   "outputs": [
    {
     "data": {
      "text/plain": [
       "x"
      ]
     },
     "metadata": {},
     "output_type": "display_data"
    }
   ],
   "source": [
    "f1 <- function(x) expr(x)\n",
    "f1(a+b+c)"
   ]
  },
  {
   "cell_type": "markdown",
   "metadata": {},
   "source": [
    "### Capture multiple expression \n",
    "Use exprs(x) if you wish to capture more than one argument."
   ]
  },
  {
   "cell_type": "code",
   "execution_count": 13,
   "metadata": {},
   "outputs": [
    {
     "data": {
      "text/plain": [
       "$x\n",
       "[1] 1\n",
       "\n",
       "$y\n",
       "x * z\n"
      ]
     },
     "metadata": {},
     "output_type": "display_data"
    }
   ],
   "source": [
    "f11 <- function(...) exprs(...)\n",
    "f11(x=1, y=x*z)"
   ]
  },
  {
   "cell_type": "markdown",
   "metadata": {},
   "source": [
    "### Capture from an lazily evaluated function argument\n",
    "In the following function f1, x is passed to enexpr(x). Enexpr() takes in the variable and capture the argument exactly. Enexpr() captures what the user supplies to the function by looking at the internal **promise** object.\n",
    "\n",
    "A **promise** captures the expression need to compute the value and the environment in which to compute it. People are not aware of promise because the moment you access a promise, its code gets evaluated and yields a value. "
   ]
  },
  {
   "cell_type": "code",
   "execution_count": 10,
   "metadata": {},
   "outputs": [
    {
     "data": {
      "text/plain": [
       "a + b + c"
      ]
     },
     "metadata": {},
     "output_type": "display_data"
    }
   ],
   "source": [
    "f2 <- function(x) enexpr(x)\n",
    "f2(a+b+c)"
   ]
  },
  {
   "cell_type": "markdown",
   "metadata": {},
   "source": [
    "### Capture the promises from multiple expressions"
   ]
  },
  {
   "cell_type": "code",
   "execution_count": 15,
   "metadata": {},
   "outputs": [
    {
     "data": {
      "text/plain": [
       "$x\n",
       "a + b + c\n",
       "\n",
       "$y\n",
       "1 + 2 + x\n"
      ]
     },
     "metadata": {},
     "output_type": "display_data"
    }
   ],
   "source": [
    "f22 <- function(...) enexprs(...)\n",
    "f22(x=a+b+c, y=1+2+x)"
   ]
  },
  {
   "cell_type": "markdown",
   "metadata": {},
   "source": [
    "## 3.2. Unquotation"
   ]
  },
  {
   "cell_type": "markdown",
   "metadata": {},
   "source": [
    "Unquotation allows the developer to call the function to selectively evaluate parts of the expression that would otherwise be quoted.    \n",
    "* !! (bang-bang) unquote one expression\n",
    "* !!! (bang-bang-bang) unquote more than one expressions"
   ]
  },
  {
   "cell_type": "code",
   "execution_count": 16,
   "metadata": {},
   "outputs": [
    {
     "data": {
      "text/plain": [
       "f(a + b + c, y)"
      ]
     },
     "metadata": {},
     "output_type": "display_data"
    }
   ],
   "source": [
    "x <- expr(a+b+c)\n",
    "expr(f(!!x, y))"
   ]
  },
  {
   "cell_type": "code",
   "execution_count": 17,
   "metadata": {},
   "outputs": [
    {
     "data": {
      "text/plain": [
       "f(1, 2, 3, y = 10, z = z)"
      ]
     },
     "metadata": {},
     "output_type": "display_data"
    }
   ],
   "source": [
    "x <- exprs(1, 2, 3, y = 10)\n",
    "expr(f(!!!x, z = z))"
   ]
  },
  {
   "cell_type": "markdown",
   "metadata": {},
   "source": [
    "### !!x and !(!x)"
   ]
  },
  {
   "cell_type": "markdown",
   "metadata": {},
   "source": [
    "If you wish to use !! as unquotation and encounters operator precedence issue, you can put bracket around the expression (ie. **(!!x)**). If you wish to doubly nagate a value in a quasiquotation, you can use **!(!x)**.\n",
    "\n",
    "\n",
    "If you need to manually deparse a function, ```rlang::expr_deparse()``` can be used."
   ]
  },
  {
   "cell_type": "code",
   "execution_count": 18,
   "metadata": {
    "scrolled": true
   },
   "outputs": [
    {
     "data": {
      "text/html": [
       "'!!x + (!!y)'"
      ],
      "text/latex": [
       "'!!x + (!!y)'"
      ],
      "text/markdown": [
       "'!!x + (!!y)'"
      ],
      "text/plain": [
       "[1] \"!!x + (!!y)\""
      ]
     },
     "metadata": {},
     "output_type": "display_data"
    }
   ],
   "source": [
    "x <- quote(!!x + !!y)\n",
    "expr_deparse(x)"
   ]
  },
  {
   "cell_type": "markdown",
   "metadata": {},
   "source": [
    "### Missing Arguments"
   ]
  },
  {
   "cell_type": "markdown",
   "metadata": {},
   "source": [
    "It might be useful to unquote a missing argument, ```maybe_missing()``` and unquote-splice (```!!!```) can come in handy."
   ]
  },
  {
   "cell_type": "code",
   "execution_count": 23,
   "metadata": {},
   "outputs": [
    {
     "data": {
      "text/plain": [
       "foo(, )"
      ]
     },
     "metadata": {},
     "output_type": "display_data"
    }
   ],
   "source": [
    "args <- list(missing_arg(), missing_arg())\n",
    "expr(foo(!!!args))"
   ]
  },
  {
   "cell_type": "markdown",
   "metadata": {},
   "source": [
    "### Dot-dot-dot(...)"
   ]
  },
  {
   "cell_type": "markdown",
   "metadata": {},
   "source": [
    "```do.call(what, args)``` has two main arguments.\n",
    "\n",
    "\n",
    "The following example removes the restriction on column numbers"
   ]
  },
  {
   "cell_type": "code",
   "execution_count": 27,
   "metadata": {},
   "outputs": [
    {
     "data": {
      "text/html": [
       "<table>\n",
       "<thead><tr><th></th><th scope=col>x</th><th scope=col>y</th></tr></thead>\n",
       "<tbody>\n",
       "\t<tr><th scope=row>a</th><td>1</td><td>2</td></tr>\n",
       "\t<tr><th scope=row>b</th><td>3</td><td>4</td></tr>\n",
       "</tbody>\n",
       "</table>\n"
      ],
      "text/latex": [
       "\\begin{tabular}{r|ll}\n",
       "  & x & y\\\\\n",
       "\\hline\n",
       "\ta & 1 & 2\\\\\n",
       "\tb & 3 & 4\\\\\n",
       "\\end{tabular}\n"
      ],
      "text/markdown": [
       "\n",
       "| <!--/--> | x | y | \n",
       "|---|---|\n",
       "| a | 1 | 2 | \n",
       "| b | 3 | 4 | \n",
       "\n",
       "\n"
      ],
      "text/plain": [
       "  x y\n",
       "a 1 2\n",
       "b 3 4"
      ]
     },
     "metadata": {},
     "output_type": "display_data"
    }
   ],
   "source": [
    "dfs <- list(\n",
    "  a = data.frame(x = 1, y = 2),\n",
    "  b = data.frame(x = 3, y = 4)\n",
    ")\n",
    "\n",
    "do.call(\"rbind\", dfs)"
   ]
  },
  {
   "cell_type": "code",
   "execution_count": 28,
   "metadata": {},
   "outputs": [
    {
     "data": {
      "text/html": [
       "<table>\n",
       "<thead><tr><th scope=col>x</th></tr></thead>\n",
       "<tbody>\n",
       "\t<tr><td>4</td></tr>\n",
       "\t<tr><td>3</td></tr>\n",
       "\t<tr><td>9</td></tr>\n",
       "</tbody>\n",
       "</table>\n"
      ],
      "text/latex": [
       "\\begin{tabular}{r|l}\n",
       " x\\\\\n",
       "\\hline\n",
       "\t 4\\\\\n",
       "\t 3\\\\\n",
       "\t 9\\\\\n",
       "\\end{tabular}\n"
      ],
      "text/markdown": [
       "\n",
       "x | \n",
       "|---|---|---|\n",
       "| 4 | \n",
       "| 3 | \n",
       "| 9 | \n",
       "\n",
       "\n"
      ],
      "text/plain": [
       "  x\n",
       "1 4\n",
       "2 3\n",
       "3 9"
      ]
     },
     "metadata": {},
     "output_type": "display_data"
    }
   ],
   "source": [
    "var <- \"x\"\n",
    "val <- c(4, 3, 9)\n",
    "args <- list(val)\n",
    "names(args) <- var\n",
    "do.call(\"data.frame\", args)"
   ]
  },
  {
   "cell_type": "markdown",
   "metadata": {},
   "source": [
    "# 4. Evaluation\n",
    "## 4.1 Evaluation Basics\n",
    "```rlang::eval_bare()```    \n",
    "In ```rlang::eval_bare()```, the first argument ```expr``` is an expression to evaluate, which will usually be an expression. The second argument, ```env``` gives the environment in which the expression should be evaluated."
   ]
  },
  {
   "cell_type": "code",
   "execution_count": 40,
   "metadata": {},
   "outputs": [
    {
     "data": {
      "text/html": [
       "10"
      ],
      "text/latex": [
       "10"
      ],
      "text/markdown": [
       "10"
      ],
      "text/plain": [
       "[1] 10"
      ]
     },
     "metadata": {},
     "output_type": "display_data"
    }
   ],
   "source": [
    "x <- 10\n",
    "eval_bare(expr(x))"
   ]
  },
  {
   "cell_type": "code",
   "execution_count": 41,
   "metadata": {},
   "outputs": [
    {
     "data": {
      "text/html": [
       "1002"
      ],
      "text/latex": [
       "1002"
      ],
      "text/markdown": [
       "1002"
      ],
      "text/plain": [
       "[1] 1002"
      ]
     },
     "metadata": {},
     "output_type": "display_data"
    }
   ],
   "source": [
    "y <- 2\n",
    "eval_bare(expr(x+y), env(x=1000))"
   ]
  },
  {
   "cell_type": "code",
   "execution_count": 42,
   "metadata": {},
   "outputs": [
    {
     "data": {
      "text/html": [
       "'10 + 2'"
      ],
      "text/latex": [
       "'10 + 2'"
      ],
      "text/markdown": [
       "'10 + 2'"
      ],
      "text/plain": [
       "[1] \"10 + 2\""
      ]
     },
     "metadata": {},
     "output_type": "display_data"
    }
   ],
   "source": [
    "eval_bare(\n",
    "  expr(x + y), \n",
    "  env(`+` = function(x, y) paste0(x, \" + \", y))\n",
    ")"
   ]
  },
  {
   "cell_type": "markdown",
   "metadata": {},
   "source": [
    "However, ```eval_bare()``` may produce unexpected result due to the conflicting variable names in the closure. Here is an example."
   ]
  },
  {
   "cell_type": "code",
   "execution_count": 73,
   "metadata": {},
   "outputs": [],
   "source": [
    "foo <- function(x) {\n",
    "  y <- 100\n",
    "  x <- enexpr(x)\n",
    "  \n",
    "  eval_bare(x)\n",
    "}"
   ]
  },
  {
   "cell_type": "code",
   "execution_count": 74,
   "metadata": {
    "scrolled": true
   },
   "outputs": [
    {
     "data": {
      "text/html": [
       "200"
      ],
      "text/latex": [
       "200"
      ],
      "text/markdown": [
       "200"
      ],
      "text/plain": [
       "[1] 200"
      ]
     },
     "metadata": {},
     "output_type": "display_data"
    }
   ],
   "source": [
    "z <- 100\n",
    "foo(z * 2)"
   ]
  },
  {
   "cell_type": "markdown",
   "metadata": {},
   "source": [
    "When the variable name does not have conflict with the closure, it evaluates fine. However, if there are conflicts"
   ]
  },
  {
   "cell_type": "code",
   "execution_count": 75,
   "metadata": {
    "scrolled": false
   },
   "outputs": [
    {
     "data": {
      "text/html": [
       "200"
      ],
      "text/latex": [
       "200"
      ],
      "text/markdown": [
       "200"
      ],
      "text/plain": [
       "[1] 200"
      ]
     },
     "metadata": {},
     "output_type": "display_data"
    }
   ],
   "source": [
    "y <- 10\n",
    "foo(y * 2)"
   ]
  },
  {
   "cell_type": "markdown",
   "metadata": {},
   "source": [
    "y exists in the closure, so y is assigned as 100"
   ]
  },
  {
   "cell_type": "markdown",
   "metadata": {},
   "source": [
    "### Use of local\n",
    "```local()``` removes the intermediate vairables. In the following examples, x and y in local() are removed after the function."
   ]
  },
  {
   "cell_type": "code",
   "execution_count": 43,
   "metadata": {
    "scrolled": true
   },
   "outputs": [
    {
     "data": {
      "text/html": [
       "210"
      ],
      "text/latex": [
       "210"
      ],
      "text/markdown": [
       "210"
      ],
      "text/plain": [
       "[1] 210"
      ]
     },
     "metadata": {},
     "output_type": "display_data"
    },
    {
     "ename": "ERROR",
     "evalue": "Error in eval(expr, envir, enclos): object 'x' not found\n",
     "output_type": "error",
     "traceback": [
      "Error in eval(expr, envir, enclos): object 'x' not found\nTraceback:\n"
     ]
    }
   ],
   "source": [
    "rm(x, y)\n",
    "\n",
    "foo <- local({\n",
    "  x <- 10\n",
    "  y <- 200\n",
    "  x + y\n",
    "})\n",
    "\n",
    "foo\n",
    "x\n",
    "y"
   ]
  },
  {
   "cell_type": "markdown",
   "metadata": {},
   "source": [
    "## 4.2 Quosures (quoting and closure)"
   ]
  },
  {
   "cell_type": "markdown",
   "metadata": {},
   "source": [
    "Quosures - The simplest form of evaluation combines an expression and an environment. "
   ]
  },
  {
   "cell_type": "markdown",
   "metadata": {},
   "source": [
    "### Create and Manipulate Quosure"
   ]
  },
  {
   "cell_type": "markdown",
   "metadata": {},
   "source": [
    "|                 | quo      |\n",
    "|-----------------|----------|\n",
    "| direct          | quo()    |\n",
    "| direct (plural) | quos()   |\n",
    "| func arg        | enquo()  |\n",
    "| func args       | enquos() |"
   ]
  },
  {
   "cell_type": "code",
   "execution_count": 45,
   "metadata": {},
   "outputs": [
    {
     "data": {
      "text/plain": [
       "<quosure>\n",
       "  expr: ^x + y + z\n",
       "  env:  global"
      ]
     },
     "metadata": {},
     "output_type": "display_data"
    },
    {
     "data": {
      "text/plain": [
       "[[1]]\n",
       "<quosure>\n",
       "  expr: ^x + 1\n",
       "  env:  global\n",
       "\n",
       "[[2]]\n",
       "<quosure>\n",
       "  expr: ^y + 2\n",
       "  env:  global\n"
      ]
     },
     "metadata": {},
     "output_type": "display_data"
    },
    {
     "data": {
      "text/plain": [
       "<quosure>\n",
       "  expr: ^a + b\n",
       "  env:  global"
      ]
     },
     "metadata": {},
     "output_type": "display_data"
    }
   ],
   "source": [
    "quo(x + y + z)\n",
    "quos(x + 1, y + 2)"
   ]
  },
  {
   "cell_type": "code",
   "execution_count": 46,
   "metadata": {},
   "outputs": [
    {
     "data": {
      "text/plain": [
       "<quosure>\n",
       "  expr: ^a + b\n",
       "  env:  global"
      ]
     },
     "metadata": {},
     "output_type": "display_data"
    }
   ],
   "source": [
    "foo <- function(x) enquo(x)\n",
    "foo(a + b)"
   ]
  },
  {
   "cell_type": "code",
   "execution_count": 58,
   "metadata": {},
   "outputs": [
    {
     "data": {
      "text/plain": [
       "<quosure>\n",
       "  expr: ^x\n",
       "  env:  global"
      ]
     },
     "metadata": {},
     "output_type": "display_data"
    },
    {
     "data": {
      "text/plain": [
       "<quosure>\n",
       "  expr: ^y\n",
       "  env:  global"
      ]
     },
     "metadata": {},
     "output_type": "display_data"
    }
   ],
   "source": [
    "x <- quo(y)\n",
    "quo(x)\n",
    "quo(!!x)"
   ]
  },
  {
   "cell_type": "markdown",
   "metadata": {},
   "source": [
    "The quosures are printed: each quosure starts with ```^```, which will be helpful when you need to unquote inside of a quosure"
   ]
  },
  {
   "cell_type": "markdown",
   "metadata": {},
   "source": [
    "### Evaluating"
   ]
  },
  {
   "cell_type": "markdown",
   "metadata": {},
   "source": [
    "```new_quosure()``` takes in expression and an environment as its argument"
   ]
  },
  {
   "cell_type": "code",
   "execution_count": 67,
   "metadata": {},
   "outputs": [
    {
     "data": {
      "text/html": [
       "11"
      ],
      "text/latex": [
       "11"
      ],
      "text/markdown": [
       "11"
      ],
      "text/plain": [
       "[1] 11"
      ]
     },
     "metadata": {},
     "output_type": "display_data"
    }
   ],
   "source": [
    "x <- new_quosure(expr(x + y), env(x = 1, y = 10))\n",
    "eval_tidy(x)"
   ]
  },
  {
   "cell_type": "markdown",
   "metadata": {},
   "source": [
    "Quosures rely on R’s internal representation of function arguments as a special type of object called a promise, whereas promises are not accessible in R as the code in the promise gets evaluated in the environmnet at the moment you access the promise. \n",
    "\n",
    "Also, a promise is evaluated once, when you access it for the first time. Every time you access it subsequently it will return the same value. A quosure must be evaluated explicitly, and each evaluation is independent of the previous evaluations."
   ]
  },
  {
   "cell_type": "code",
   "execution_count": 68,
   "metadata": {},
   "outputs": [
    {
     "data": {
      "text/html": [
       "<ol>\n",
       "\t<li><ol class=list-inline>\n",
       "\t<li>0.449657273245975</li>\n",
       "\t<li>0.816486859694123</li>\n",
       "\t<li>0.296342924004421</li>\n",
       "</ol>\n",
       "</li>\n",
       "\t<li><ol class=list-inline>\n",
       "\t<li>0.449657273245975</li>\n",
       "\t<li>0.816486859694123</li>\n",
       "\t<li>0.296342924004421</li>\n",
       "</ol>\n",
       "</li>\n",
       "</ol>\n"
      ],
      "text/latex": [
       "\\begin{enumerate}\n",
       "\\item \\begin{enumerate*}\n",
       "\\item 0.449657273245975\n",
       "\\item 0.816486859694123\n",
       "\\item 0.296342924004421\n",
       "\\end{enumerate*}\n",
       "\n",
       "\\item \\begin{enumerate*}\n",
       "\\item 0.449657273245975\n",
       "\\item 0.816486859694123\n",
       "\\item 0.296342924004421\n",
       "\\end{enumerate*}\n",
       "\n",
       "\\end{enumerate}\n"
      ],
      "text/markdown": [
       "1. 1. 0.449657273245975\n",
       "2. 0.816486859694123\n",
       "3. 0.296342924004421\n",
       "\n",
       "\n",
       "\n",
       "2. 1. 0.449657273245975\n",
       "2. 0.816486859694123\n",
       "3. 0.296342924004421\n",
       "\n",
       "\n",
       "\n",
       "\n",
       "\n"
      ],
      "text/plain": [
       "[[1]]\n",
       "[1] 0.4496573 0.8164869 0.2963429\n",
       "\n",
       "[[2]]\n",
       "[1] 0.4496573 0.8164869 0.2963429\n"
      ]
     },
     "metadata": {},
     "output_type": "display_data"
    }
   ],
   "source": [
    "foo <- function(x_arg) {\n",
    "  list(x_arg, x_arg)\n",
    "}\n",
    "foo(runif(3))"
   ]
  },
  {
   "cell_type": "markdown",
   "metadata": {},
   "source": [
    "In this example, the numbers are the same, but if we use quosure, the numbers will be different."
   ]
  },
  {
   "cell_type": "code",
   "execution_count": 69,
   "metadata": {},
   "outputs": [
    {
     "data": {
      "text/html": [
       "<ol class=list-inline>\n",
       "\t<li>0.886599878547713</li>\n",
       "\t<li>0.593514450127259</li>\n",
       "\t<li>0.403715626336634</li>\n",
       "</ol>\n"
      ],
      "text/latex": [
       "\\begin{enumerate*}\n",
       "\\item 0.886599878547713\n",
       "\\item 0.593514450127259\n",
       "\\item 0.403715626336634\n",
       "\\end{enumerate*}\n"
      ],
      "text/markdown": [
       "1. 0.886599878547713\n",
       "2. 0.593514450127259\n",
       "3. 0.403715626336634\n",
       "\n",
       "\n"
      ],
      "text/plain": [
       "[1] 0.8865999 0.5935145 0.4037156"
      ]
     },
     "metadata": {},
     "output_type": "display_data"
    },
    {
     "data": {
      "text/html": [
       "<ol class=list-inline>\n",
       "\t<li>0.271057715173811</li>\n",
       "\t<li>0.0147351548075676</li>\n",
       "\t<li>0.548791621113196</li>\n",
       "</ol>\n"
      ],
      "text/latex": [
       "\\begin{enumerate*}\n",
       "\\item 0.271057715173811\n",
       "\\item 0.0147351548075676\n",
       "\\item 0.548791621113196\n",
       "\\end{enumerate*}\n"
      ],
      "text/markdown": [
       "1. 0.271057715173811\n",
       "2. 0.0147351548075676\n",
       "3. 0.548791621113196\n",
       "\n",
       "\n"
      ],
      "text/plain": [
       "[1] 0.27105772 0.01473515 0.54879162"
      ]
     },
     "metadata": {},
     "output_type": "display_data"
    }
   ],
   "source": [
    "x_quo <- quo(runif(3))\n",
    "eval_tidy(x_quo)\n",
    "eval_tidy(x_quo)"
   ]
  },
  {
   "cell_type": "markdown",
   "metadata": {},
   "source": [
    "### Data Masks"
   ]
  },
  {
   "cell_type": "markdown",
   "metadata": {},
   "source": [
    "The power of ```tidy_eval()``` is that it can include a data frame to define where the evaluation takes place.\n",
    "- A **data mask** is a data frame where the evaluated code will look first for variable definitions.\n",
    "- A data mask introduces ambiguity, so to remove that ambguity when necessary, we introduces **pronouns**."
   ]
  },
  {
   "cell_type": "markdown",
   "metadata": {},
   "source": [
    "**Enquote using enquo() or enquos()**    \n",
    "If we enquote an expression by ```enquo()```, it will be same to say we supply an evaluation environment ```caller_env()```. The following examples will produce the same result."
   ]
  },
  {
   "cell_type": "code",
   "execution_count": 78,
   "metadata": {},
   "outputs": [
    {
     "data": {
      "text/html": [
       "20"
      ],
      "text/latex": [
       "20"
      ],
      "text/markdown": [
       "20"
      ],
      "text/plain": [
       "[1] 20"
      ]
     },
     "metadata": {},
     "output_type": "display_data"
    }
   ],
   "source": [
    "foo1 <- function(x) {\n",
    "  y <- 100\n",
    "  x <- enquo(x)\n",
    "  \n",
    "  eval_tidy(x)\n",
    "}\n",
    "y <- 10\n",
    "foo1(y * 2)"
   ]
  },
  {
   "cell_type": "code",
   "execution_count": 82,
   "metadata": {},
   "outputs": [
    {
     "data": {
      "text/html": [
       "20"
      ],
      "text/latex": [
       "20"
      ],
      "text/markdown": [
       "20"
      ],
      "text/plain": [
       "[1] 20"
      ]
     },
     "metadata": {},
     "output_type": "display_data"
    }
   ],
   "source": [
    "foo2 <- function(x) {\n",
    "  y <- 100\n",
    "  x <- enexpr(x)\n",
    "  \n",
    "  eval_bare(x, caller_env())\n",
    "}\n",
    "\n",
    "y <- 10\n",
    "foo2(y * 2)"
   ]
  },
  {
   "cell_type": "markdown",
   "metadata": {},
   "source": [
    "---\n",
    "```tidy_eval()``` takes in a data frame, and the data frame behaves like an environment. Also, we can take the environment and use it to another quosure.    \n",
    "\n",
    "\n",
    "The first example shows how eval_tidy can be used on a data frame. The second example takes the environment of the first quosure and evaluate by ```quo_set_env()```."
   ]
  },
  {
   "cell_type": "code",
   "execution_count": 70,
   "metadata": {},
   "outputs": [
    {
     "data": {
      "text/html": [
       "<ol class=list-inline>\n",
       "\t<li>10</li>\n",
       "\t<li>20</li>\n",
       "\t<li>30</li>\n",
       "\t<li>40</li>\n",
       "\t<li>50</li>\n",
       "\t<li>60</li>\n",
       "\t<li>70</li>\n",
       "\t<li>80</li>\n",
       "\t<li>90</li>\n",
       "\t<li>100</li>\n",
       "</ol>\n"
      ],
      "text/latex": [
       "\\begin{enumerate*}\n",
       "\\item 10\n",
       "\\item 20\n",
       "\\item 30\n",
       "\\item 40\n",
       "\\item 50\n",
       "\\item 60\n",
       "\\item 70\n",
       "\\item 80\n",
       "\\item 90\n",
       "\\item 100\n",
       "\\end{enumerate*}\n"
      ],
      "text/markdown": [
       "1. 10\n",
       "2. 20\n",
       "3. 30\n",
       "4. 40\n",
       "5. 50\n",
       "6. 60\n",
       "7. 70\n",
       "8. 80\n",
       "9. 90\n",
       "10. 100\n",
       "\n",
       "\n"
      ],
      "text/plain": [
       " [1]  10  20  30  40  50  60  70  80  90 100"
      ]
     },
     "metadata": {},
     "output_type": "display_data"
    }
   ],
   "source": [
    "x <- 10\n",
    "df <- data.frame(y = 1:10)\n",
    "q1 <- quo(x * y)\n",
    "\n",
    "eval_tidy(q1, df)"
   ]
  },
  {
   "cell_type": "code",
   "execution_count": 71,
   "metadata": {},
   "outputs": [
    {
     "data": {
      "text/html": [
       "<ol class=list-inline>\n",
       "\t<li>10</li>\n",
       "\t<li>20</li>\n",
       "\t<li>30</li>\n",
       "\t<li>40</li>\n",
       "\t<li>50</li>\n",
       "\t<li>60</li>\n",
       "\t<li>70</li>\n",
       "\t<li>80</li>\n",
       "\t<li>90</li>\n",
       "\t<li>100</li>\n",
       "</ol>\n"
      ],
      "text/latex": [
       "\\begin{enumerate*}\n",
       "\\item 10\n",
       "\\item 20\n",
       "\\item 30\n",
       "\\item 40\n",
       "\\item 50\n",
       "\\item 60\n",
       "\\item 70\n",
       "\\item 80\n",
       "\\item 90\n",
       "\\item 100\n",
       "\\end{enumerate*}\n"
      ],
      "text/markdown": [
       "1. 10\n",
       "2. 20\n",
       "3. 30\n",
       "4. 40\n",
       "5. 50\n",
       "6. 60\n",
       "7. 70\n",
       "8. 80\n",
       "9. 90\n",
       "10. 100\n",
       "\n",
       "\n"
      ],
      "text/plain": [
       " [1]  10  20  30  40  50  60  70  80  90 100"
      ]
     },
     "metadata": {},
     "output_type": "display_data"
    }
   ],
   "source": [
    "df_env <- as_env(df, parent = quo_get_env(q1))\n",
    "q2 <- quo_set_env(q1, df_env)\n",
    "\n",
    "eval_tidy(q2)"
   ]
  },
  {
   "cell_type": "code",
   "execution_count": 72,
   "metadata": {},
   "outputs": [
    {
     "data": {
      "text/html": [
       "<ol class=list-inline>\n",
       "\t<li>9</li>\n",
       "\t<li>8</li>\n",
       "\t<li>7</li>\n",
       "\t<li>6</li>\n",
       "\t<li>5</li>\n",
       "\t<li>4</li>\n",
       "\t<li>3</li>\n",
       "\t<li>2</li>\n",
       "\t<li>1</li>\n",
       "\t<li>0</li>\n",
       "</ol>\n"
      ],
      "text/latex": [
       "\\begin{enumerate*}\n",
       "\\item 9\n",
       "\\item 8\n",
       "\\item 7\n",
       "\\item 6\n",
       "\\item 5\n",
       "\\item 4\n",
       "\\item 3\n",
       "\\item 2\n",
       "\\item 1\n",
       "\\item 0\n",
       "\\end{enumerate*}\n"
      ],
      "text/markdown": [
       "1. 9\n",
       "2. 8\n",
       "3. 7\n",
       "4. 6\n",
       "5. 5\n",
       "6. 4\n",
       "7. 3\n",
       "8. 2\n",
       "9. 1\n",
       "10. 0\n",
       "\n",
       "\n"
      ],
      "text/plain": [
       " [1] 9 8 7 6 5 4 3 2 1 0"
      ]
     },
     "metadata": {},
     "output_type": "display_data"
    }
   ],
   "source": [
    "q3 <- quo_set_env(quo(x-y), df_env)\n",
    "eval_tidy(q3)"
   ]
  },
  {
   "cell_type": "markdown",
   "metadata": {},
   "source": [
    "# Common Practice in Survey Data"
   ]
  },
  {
   "cell_type": "markdown",
   "metadata": {},
   "source": [
    "Some survey data set include each respondent as one row, and question numbers as columns. We sometimes have to gather information for one or multiple columns. In this case, we don't know how many columns are needed. Also, if we wish to summarize data with different functions, such as ```mean=mean(col_1)```, ```sum=sum(col_2)``` or other self-defined calculations, we do now know what or how many columns we need to pass in ```dplyr``` functions like ```summary()```, ```mutate()``` and ```group_by()```. I use ```stringr``` library to deal with the column names and ```rlang``` library to deal with the generation of expressions.\n",
    "\n",
    "Originally, I used ```stringr``` to generate expressions as well; however, using ```str_interp()``` can be dangerous. When the variable string passed in is wrong, the program may not catch the error before evaluation."
   ]
  },
  {
   "cell_type": "code",
   "execution_count": 4,
   "metadata": {},
   "outputs": [],
   "source": [
    "library(dplyr)\n",
    "library(rlang)\n",
    "library(purrr)"
   ]
  },
  {
   "cell_type": "code",
   "execution_count": 5,
   "metadata": {},
   "outputs": [
    {
     "data": {
      "text/html": [
       "<table>\n",
       "<thead><tr><th></th><th scope=col>q1a</th><th scope=col>q1b</th><th scope=col>q1c</th><th scope=col>q2a</th><th scope=col>q2c</th><th scope=col>q3a</th></tr></thead>\n",
       "<tbody>\n",
       "\t<tr><th scope=row>student1</th><td>2</td><td>2</td><td>5</td><td>2</td><td>2</td><td>2</td></tr>\n",
       "\t<tr><th scope=row>student2</th><td>2</td><td>1</td><td>4</td><td>1</td><td>3</td><td>2</td></tr>\n",
       "\t<tr><th scope=row>student3</th><td>3</td><td>2</td><td>4</td><td>1</td><td>2</td><td>1</td></tr>\n",
       "\t<tr><th scope=row>student4</th><td>4</td><td>1</td><td>3</td><td>1</td><td>2</td><td>3</td></tr>\n",
       "\t<tr><th scope=row>student5</th><td>1</td><td>1</td><td>3</td><td>2</td><td>4</td><td>2</td></tr>\n",
       "\t<tr><th scope=row>student6</th><td>4</td><td>1</td><td>4</td><td>1</td><td>1</td><td>1</td></tr>\n",
       "\t<tr><th scope=row>student7</th><td>4</td><td>1</td><td>1</td><td>1</td><td>3</td><td>1</td></tr>\n",
       "\t<tr><th scope=row>student8</th><td>3</td><td>1</td><td>3</td><td>2</td><td>1</td><td>2</td></tr>\n",
       "\t<tr><th scope=row>student9</th><td>3</td><td>2</td><td>4</td><td>1</td><td>1</td><td>3</td></tr>\n",
       "\t<tr><th scope=row>student10</th><td>1</td><td>1</td><td>4</td><td>2</td><td>1</td><td>2</td></tr>\n",
       "\t<tr><th scope=row>student11</th><td>1</td><td>1</td><td>3</td><td>1</td><td>1</td><td>3</td></tr>\n",
       "\t<tr><th scope=row>student12</th><td>1</td><td>2</td><td>5</td><td>2</td><td>1</td><td>3</td></tr>\n",
       "\t<tr><th scope=row>student13</th><td>3</td><td>1</td><td>3</td><td>1</td><td>3</td><td>2</td></tr>\n",
       "\t<tr><th scope=row>student14</th><td>2</td><td>1</td><td>2</td><td>1</td><td>4</td><td>2</td></tr>\n",
       "\t<tr><th scope=row>student15</th><td>4</td><td>2</td><td>1</td><td>1</td><td>4</td><td>1</td></tr>\n",
       "\t<tr><th scope=row>student16</th><td>2</td><td>2</td><td>1</td><td>2</td><td>4</td><td>1</td></tr>\n",
       "\t<tr><th scope=row>student17</th><td>3</td><td>2</td><td>2</td><td>2</td><td>2</td><td>3</td></tr>\n",
       "\t<tr><th scope=row>student18</th><td>4</td><td>1</td><td>3</td><td>1</td><td>2</td><td>1</td></tr>\n",
       "\t<tr><th scope=row>student19</th><td>2</td><td>2</td><td>4</td><td>2</td><td>4</td><td>2</td></tr>\n",
       "\t<tr><th scope=row>student20</th><td>4</td><td>1</td><td>3</td><td>2</td><td>3</td><td>2</td></tr>\n",
       "</tbody>\n",
       "</table>\n"
      ],
      "text/latex": [
       "\\begin{tabular}{r|llllll}\n",
       "  & q1a & q1b & q1c & q2a & q2c & q3a\\\\\n",
       "\\hline\n",
       "\tstudent1 & 2 & 2 & 5 & 2 & 2 & 2\\\\\n",
       "\tstudent2 & 2 & 1 & 4 & 1 & 3 & 2\\\\\n",
       "\tstudent3 & 3 & 2 & 4 & 1 & 2 & 1\\\\\n",
       "\tstudent4 & 4 & 1 & 3 & 1 & 2 & 3\\\\\n",
       "\tstudent5 & 1 & 1 & 3 & 2 & 4 & 2\\\\\n",
       "\tstudent6 & 4 & 1 & 4 & 1 & 1 & 1\\\\\n",
       "\tstudent7 & 4 & 1 & 1 & 1 & 3 & 1\\\\\n",
       "\tstudent8 & 3 & 1 & 3 & 2 & 1 & 2\\\\\n",
       "\tstudent9 & 3 & 2 & 4 & 1 & 1 & 3\\\\\n",
       "\tstudent10 & 1 & 1 & 4 & 2 & 1 & 2\\\\\n",
       "\tstudent11 & 1 & 1 & 3 & 1 & 1 & 3\\\\\n",
       "\tstudent12 & 1 & 2 & 5 & 2 & 1 & 3\\\\\n",
       "\tstudent13 & 3 & 1 & 3 & 1 & 3 & 2\\\\\n",
       "\tstudent14 & 2 & 1 & 2 & 1 & 4 & 2\\\\\n",
       "\tstudent15 & 4 & 2 & 1 & 1 & 4 & 1\\\\\n",
       "\tstudent16 & 2 & 2 & 1 & 2 & 4 & 1\\\\\n",
       "\tstudent17 & 3 & 2 & 2 & 2 & 2 & 3\\\\\n",
       "\tstudent18 & 4 & 1 & 3 & 1 & 2 & 1\\\\\n",
       "\tstudent19 & 2 & 2 & 4 & 2 & 4 & 2\\\\\n",
       "\tstudent20 & 4 & 1 & 3 & 2 & 3 & 2\\\\\n",
       "\\end{tabular}\n"
      ],
      "text/markdown": [
       "\n",
       "| <!--/--> | q1a | q1b | q1c | q2a | q2c | q3a | \n",
       "|---|---|---|---|---|---|---|---|---|---|---|---|---|---|---|---|---|---|---|---|\n",
       "| student1 | 2 | 2 | 5 | 2 | 2 | 2 | \n",
       "| student2 | 2 | 1 | 4 | 1 | 3 | 2 | \n",
       "| student3 | 3 | 2 | 4 | 1 | 2 | 1 | \n",
       "| student4 | 4 | 1 | 3 | 1 | 2 | 3 | \n",
       "| student5 | 1 | 1 | 3 | 2 | 4 | 2 | \n",
       "| student6 | 4 | 1 | 4 | 1 | 1 | 1 | \n",
       "| student7 | 4 | 1 | 1 | 1 | 3 | 1 | \n",
       "| student8 | 3 | 1 | 3 | 2 | 1 | 2 | \n",
       "| student9 | 3 | 2 | 4 | 1 | 1 | 3 | \n",
       "| student10 | 1 | 1 | 4 | 2 | 1 | 2 | \n",
       "| student11 | 1 | 1 | 3 | 1 | 1 | 3 | \n",
       "| student12 | 1 | 2 | 5 | 2 | 1 | 3 | \n",
       "| student13 | 3 | 1 | 3 | 1 | 3 | 2 | \n",
       "| student14 | 2 | 1 | 2 | 1 | 4 | 2 | \n",
       "| student15 | 4 | 2 | 1 | 1 | 4 | 1 | \n",
       "| student16 | 2 | 2 | 1 | 2 | 4 | 1 | \n",
       "| student17 | 3 | 2 | 2 | 2 | 2 | 3 | \n",
       "| student18 | 4 | 1 | 3 | 1 | 2 | 1 | \n",
       "| student19 | 2 | 2 | 4 | 2 | 4 | 2 | \n",
       "| student20 | 4 | 1 | 3 | 2 | 3 | 2 | \n",
       "\n",
       "\n"
      ],
      "text/plain": [
       "          q1a q1b q1c q2a q2c q3a\n",
       "student1  2   2   5   2   2   2  \n",
       "student2  2   1   4   1   3   2  \n",
       "student3  3   2   4   1   2   1  \n",
       "student4  4   1   3   1   2   3  \n",
       "student5  1   1   3   2   4   2  \n",
       "student6  4   1   4   1   1   1  \n",
       "student7  4   1   1   1   3   1  \n",
       "student8  3   1   3   2   1   2  \n",
       "student9  3   2   4   1   1   3  \n",
       "student10 1   1   4   2   1   2  \n",
       "student11 1   1   3   1   1   3  \n",
       "student12 1   2   5   2   1   3  \n",
       "student13 3   1   3   1   3   2  \n",
       "student14 2   1   2   1   4   2  \n",
       "student15 4   2   1   1   4   1  \n",
       "student16 2   2   1   2   4   1  \n",
       "student17 3   2   2   2   2   3  \n",
       "student18 4   1   3   1   2   1  \n",
       "student19 2   2   4   2   4   2  \n",
       "student20 4   1   3   2   3   2  "
      ]
     },
     "metadata": {},
     "output_type": "display_data"
    }
   ],
   "source": [
    "set.seed(1)\n",
    "survey <- data.frame(q1a = floor(runif(20, min=1, max=5)),\n",
    "                    q1b = floor(runif(20, min=1, max=3)),\n",
    "                    q1c = floor(runif(20, min=1, max=6)),\n",
    "                    q2a = floor(runif(20, min=1, max=3)),\n",
    "                    q2c = floor(runif(20, min=1, max=5)),\n",
    "                    q3a = floor(runif(20, min=1, max=4)))\n",
    "row.names(survey) <- lapply(1:20, function(x) paste0(\"student\", x))\n",
    "survey"
   ]
  },
  {
   "cell_type": "markdown",
   "metadata": {},
   "source": [
    "Each column means a sub-question, and the number in cell indicates the answer from students.\n",
    "\n",
    "The first step is often to count how many people select one of the factors"
   ]
  },
  {
   "cell_type": "markdown",
   "metadata": {},
   "source": [
    "---\n",
    "If you know the specific column names, the following function can be used to obtain a data frame of the column.\n",
    "\n",
    "**Single Question**"
   ]
  },
  {
   "cell_type": "code",
   "execution_count": 46,
   "metadata": {},
   "outputs": [
    {
     "name": "stdout",
     "output_type": "stream",
     "text": [
      "q1a\n"
     ]
    },
    {
     "data": {
      "text/html": [
       "<table>\n",
       "<thead><tr><th scope=col>q1a</th><th scope=col>Freq</th></tr></thead>\n",
       "<tbody>\n",
       "\t<tr><td>1</td><td>4</td></tr>\n",
       "\t<tr><td>2</td><td>5</td></tr>\n",
       "\t<tr><td>3</td><td>5</td></tr>\n",
       "\t<tr><td>4</td><td>6</td></tr>\n",
       "</tbody>\n",
       "</table>\n"
      ],
      "text/latex": [
       "\\begin{tabular}{r|ll}\n",
       " q1a & Freq\\\\\n",
       "\\hline\n",
       "\t 1 & 4\\\\\n",
       "\t 2 & 5\\\\\n",
       "\t 3 & 5\\\\\n",
       "\t 4 & 6\\\\\n",
       "\\end{tabular}\n"
      ],
      "text/markdown": [
       "\n",
       "q1a | Freq | \n",
       "|---|---|---|---|\n",
       "| 1 | 4 | \n",
       "| 2 | 5 | \n",
       "| 3 | 5 | \n",
       "| 4 | 6 | \n",
       "\n",
       "\n"
      ],
      "text/plain": [
       "  q1a Freq\n",
       "1 1   4   \n",
       "2 2   5   \n",
       "3 3   5   \n",
       "4 4   6   "
      ]
     },
     "metadata": {},
     "output_type": "display_data"
    }
   ],
   "source": [
    "get_one_col <- function(question, dataframe){\n",
    "    q <- sym(question)\n",
    "    dataframe[, question] <-  as.factor(dataframe[, question])\n",
    "    df <- dataframe %>% group_by(!!q) %>% summarise(Freq=n())\n",
    "    df\n",
    "}\n",
    "\n",
    "get_one_col(c(\"q1a\"), survey)"
   ]
  },
  {
   "cell_type": "markdown",
   "metadata": {},
   "source": [
    "**Multiple Questions**"
   ]
  },
  {
   "cell_type": "code",
   "execution_count": 84,
   "metadata": {},
   "outputs": [
    {
     "data": {
      "text/html": [
       "<ol>\n",
       "\t<li><table>\n",
       "<thead><tr><th scope=col>q1a</th><th scope=col>Freq</th></tr></thead>\n",
       "<tbody>\n",
       "\t<tr><td>1</td><td>4</td></tr>\n",
       "\t<tr><td>2</td><td>5</td></tr>\n",
       "\t<tr><td>3</td><td>5</td></tr>\n",
       "\t<tr><td>4</td><td>6</td></tr>\n",
       "</tbody>\n",
       "</table>\n",
       "</li>\n",
       "\t<li><table>\n",
       "<thead><tr><th scope=col>q1b</th><th scope=col>Freq</th></tr></thead>\n",
       "<tbody>\n",
       "\t<tr><td>1 </td><td>12</td></tr>\n",
       "\t<tr><td>2 </td><td> 8</td></tr>\n",
       "</tbody>\n",
       "</table>\n",
       "</li>\n",
       "</ol>\n"
      ],
      "text/latex": [
       "\\begin{enumerate}\n",
       "\\item \\begin{tabular}{r|ll}\n",
       " q1a & Freq\\\\\n",
       "\\hline\n",
       "\t 1 & 4\\\\\n",
       "\t 2 & 5\\\\\n",
       "\t 3 & 5\\\\\n",
       "\t 4 & 6\\\\\n",
       "\\end{tabular}\n",
       "\n",
       "\\item \\begin{tabular}{r|ll}\n",
       " q1b & Freq\\\\\n",
       "\\hline\n",
       "\t 1  & 12\\\\\n",
       "\t 2  &  8\\\\\n",
       "\\end{tabular}\n",
       "\n",
       "\\end{enumerate}\n"
      ],
      "text/markdown": [
       "1. \n",
       "q1a | Freq | \n",
       "|---|---|---|---|\n",
       "| 1 | 4 | \n",
       "| 2 | 5 | \n",
       "| 3 | 5 | \n",
       "| 4 | 6 | \n",
       "\n",
       "\n",
       "\n",
       "2. \n",
       "q1b | Freq | \n",
       "|---|---|\n",
       "| 1  | 12 | \n",
       "| 2  |  8 | \n",
       "\n",
       "\n",
       "\n",
       "\n",
       "\n"
      ],
      "text/plain": [
       "[[1]]\n",
       "# A tibble: 4 x 2\n",
       "  q1a    Freq\n",
       "  <fct> <int>\n",
       "1 1         4\n",
       "2 2         5\n",
       "3 3         5\n",
       "4 4         6\n",
       "\n",
       "[[2]]\n",
       "# A tibble: 2 x 2\n",
       "  q1b    Freq\n",
       "  <fct> <int>\n",
       "1 1        12\n",
       "2 2         8\n"
      ]
     },
     "metadata": {},
     "output_type": "display_data"
    }
   ],
   "source": [
    "get_more_col <- function(questions, dataframe){\n",
    "  qs <- syms(questions)\n",
    "  dataframe[, questions] <- map_dfc(dataframe[, questions], as.factor)\n",
    "  df_lst <- lapply(1:length(questions), function(x) dataframe %>% group_by(!!qs[[x]]) %>% summarise(Freq=n()))\n",
    "  df_lst\n",
    "}\n",
    "\n",
    "get_more_col(c(\"q1a\", \"q1b\"), survey)"
   ]
  },
  {
   "cell_type": "markdown",
   "metadata": {},
   "source": [
    "If you wish to use quosure instead of strings. That's fine too. However, in the following example, the whole data frame has been modified."
   ]
  },
  {
   "cell_type": "markdown",
   "metadata": {},
   "source": [
    "**Single Question**"
   ]
  },
  {
   "cell_type": "code",
   "execution_count": 45,
   "metadata": {},
   "outputs": [
    {
     "data": {
      "text/html": [
       "<table>\n",
       "<thead><tr><th scope=col>q1a</th><th scope=col>Freq</th></tr></thead>\n",
       "<tbody>\n",
       "\t<tr><td>1</td><td>4</td></tr>\n",
       "\t<tr><td>2</td><td>5</td></tr>\n",
       "\t<tr><td>3</td><td>5</td></tr>\n",
       "\t<tr><td>4</td><td>6</td></tr>\n",
       "</tbody>\n",
       "</table>\n"
      ],
      "text/latex": [
       "\\begin{tabular}{r|ll}\n",
       " q1a & Freq\\\\\n",
       "\\hline\n",
       "\t 1 & 4\\\\\n",
       "\t 2 & 5\\\\\n",
       "\t 3 & 5\\\\\n",
       "\t 4 & 6\\\\\n",
       "\\end{tabular}\n"
      ],
      "text/markdown": [
       "\n",
       "q1a | Freq | \n",
       "|---|---|---|---|\n",
       "| 1 | 4 | \n",
       "| 2 | 5 | \n",
       "| 3 | 5 | \n",
       "| 4 | 6 | \n",
       "\n",
       "\n"
      ],
      "text/plain": [
       "  q1a Freq\n",
       "1 1   4   \n",
       "2 2   5   \n",
       "3 3   5   \n",
       "4 4   6   "
      ]
     },
     "metadata": {},
     "output_type": "display_data"
    }
   ],
   "source": [
    "get_one_col <- function(question, dataframe){\n",
    "    q <- quo(!!ensym(question))\n",
    "    ## ensym() returns an expression, to quote the expression with environment\n",
    "    ##  first unquote the expression in quo(), as otherwise quo will take ensym(question) literally\n",
    "    ##  then use quo()\n",
    "    dataframe <- map_dfc(dataframe, as.factor)\n",
    "    df <- dataframe %>% group_by(!!q) %>% summarise(Freq=n())\n",
    "    df\n",
    "}\n",
    "\n",
    "get_one_col(q1a, survey)"
   ]
  },
  {
   "cell_type": "code",
   "execution_count": 65,
   "metadata": {},
   "outputs": [
    {
     "data": {
      "text/html": [
       "<ol>\n",
       "\t<li><table>\n",
       "<thead><tr><th scope=col>q1a</th><th scope=col>Freq</th></tr></thead>\n",
       "<tbody>\n",
       "\t<tr><td>1</td><td>4</td></tr>\n",
       "\t<tr><td>2</td><td>5</td></tr>\n",
       "\t<tr><td>3</td><td>5</td></tr>\n",
       "\t<tr><td>4</td><td>6</td></tr>\n",
       "</tbody>\n",
       "</table>\n",
       "</li>\n",
       "\t<li><table>\n",
       "<thead><tr><th scope=col>q1b</th><th scope=col>Freq</th></tr></thead>\n",
       "<tbody>\n",
       "\t<tr><td>1 </td><td>12</td></tr>\n",
       "\t<tr><td>2 </td><td> 8</td></tr>\n",
       "</tbody>\n",
       "</table>\n",
       "</li>\n",
       "</ol>\n"
      ],
      "text/latex": [
       "\\begin{enumerate}\n",
       "\\item \\begin{tabular}{r|ll}\n",
       " q1a & Freq\\\\\n",
       "\\hline\n",
       "\t 1 & 4\\\\\n",
       "\t 2 & 5\\\\\n",
       "\t 3 & 5\\\\\n",
       "\t 4 & 6\\\\\n",
       "\\end{tabular}\n",
       "\n",
       "\\item \\begin{tabular}{r|ll}\n",
       " q1b & Freq\\\\\n",
       "\\hline\n",
       "\t 1  & 12\\\\\n",
       "\t 2  &  8\\\\\n",
       "\\end{tabular}\n",
       "\n",
       "\\end{enumerate}\n"
      ],
      "text/markdown": [
       "1. \n",
       "q1a | Freq | \n",
       "|---|---|---|---|\n",
       "| 1 | 4 | \n",
       "| 2 | 5 | \n",
       "| 3 | 5 | \n",
       "| 4 | 6 | \n",
       "\n",
       "\n",
       "\n",
       "2. \n",
       "q1b | Freq | \n",
       "|---|---|\n",
       "| 1  | 12 | \n",
       "| 2  |  8 | \n",
       "\n",
       "\n",
       "\n",
       "\n",
       "\n"
      ],
      "text/plain": [
       "[[1]]\n",
       "# A tibble: 4 x 2\n",
       "  q1a    Freq\n",
       "  <fct> <int>\n",
       "1 1         4\n",
       "2 2         5\n",
       "3 3         5\n",
       "4 4         6\n",
       "\n",
       "[[2]]\n",
       "# A tibble: 2 x 2\n",
       "  q1b    Freq\n",
       "  <fct> <int>\n",
       "1 1        12\n",
       "2 2         8\n"
      ]
     },
     "metadata": {},
     "output_type": "display_data"
    }
   ],
   "source": [
    "get_more_col <- function(..., dataframe){\n",
    "  qs <- enquos(...)\n",
    "  len_dots <- dots_n(...)\n",
    "  dataframe <- map_dfc(dataframe, as.factor)\n",
    "  df_lst <- lapply(1:len_dots, function(x) dataframe %>% group_by(!!qs[[x]]) %>% summarise(Freq=n()))\n",
    "  df_lst\n",
    "}\n",
    "\n",
    "get_more_col(q1a, q1b, dataframe=survey)"
   ]
  },
  {
   "cell_type": "code",
   "execution_count": 25,
   "metadata": {},
   "outputs": [
    {
     "data": {
      "text/plain": [
       "<quosure>\n",
       "  expr: ^x + y\n",
       "  env:  global"
      ]
     },
     "metadata": {},
     "output_type": "display_data"
    }
   ],
   "source": [
    "quo <- quo(x+y)\n",
    "quo"
   ]
  },
  {
   "cell_type": "code",
   "execution_count": 27,
   "metadata": {
    "scrolled": true
   },
   "outputs": [
    {
     "data": {
      "text/plain": [
       "x + y"
      ]
     },
     "metadata": {},
     "output_type": "display_data"
    }
   ],
   "source": [
    "squashed_quo <- quo_squash(quo)\n",
    "squashed_quo"
   ]
  },
  {
   "cell_type": "code",
   "execution_count": 54,
   "metadata": {},
   "outputs": [
    {
     "data": {
      "text/html": [
       "'`x + y`'"
      ],
      "text/latex": [
       "'`x + y`'"
      ],
      "text/markdown": [
       "'`x + y`'"
      ],
      "text/plain": [
       "[1] \"`x + y`\""
      ]
     },
     "metadata": {},
     "output_type": "display_data"
    }
   ],
   "source": [
    "quo_label(quo)"
   ]
  },
  {
   "cell_type": "code",
   "execution_count": 31,
   "metadata": {},
   "outputs": [
    {
     "data": {
      "text/html": [
       "'x + y'"
      ],
      "text/latex": [
       "'x + y'"
      ],
      "text/markdown": [
       "'x + y'"
      ],
      "text/plain": [
       "[1] \"x + y\""
      ]
     },
     "metadata": {},
     "output_type": "display_data"
    }
   ],
   "source": [
    "quo_name(quo)"
   ]
  },
  {
   "cell_type": "code",
   "execution_count": 35,
   "metadata": {},
   "outputs": [
    {
     "data": {
      "text/html": [
       "'x + y'"
      ],
      "text/latex": [
       "'x + y'"
      ],
      "text/markdown": [
       "'x + y'"
      ],
      "text/plain": [
       "[1] \"x + y\""
      ]
     },
     "metadata": {},
     "output_type": "display_data"
    }
   ],
   "source": [
    "quo_text(quo)"
   ]
  },
  {
   "cell_type": "code",
   "execution_count": 32,
   "metadata": {},
   "outputs": [
    {
     "data": {
      "text/html": [
       "'\"a\\\\nb\"'"
      ],
      "text/latex": [
       "'\"a\\textbackslash{}\\textbackslash{}nb\"'"
      ],
      "text/markdown": [
       "'\"a\\\\nb\"'"
      ],
      "text/plain": [
       "[1] \"\\\"a\\\\nb\\\"\""
      ]
     },
     "metadata": {},
     "output_type": "display_data"
    }
   ],
   "source": [
    "expr_label(\"a\\nb\")"
   ]
  },
  {
   "cell_type": "code",
   "execution_count": 33,
   "metadata": {},
   "outputs": [
    {
     "data": {
      "text/html": [
       "'a\\nb'"
      ],
      "text/latex": [
       "'a\\textbackslash{}nb'"
      ],
      "text/markdown": [
       "'a\\nb'"
      ],
      "text/plain": [
       "[1] \"a\\nb\""
      ]
     },
     "metadata": {},
     "output_type": "display_data"
    }
   ],
   "source": [
    "expr_name(\"a\\nb\")"
   ]
  },
  {
   "cell_type": "code",
   "execution_count": 34,
   "metadata": {},
   "outputs": [
    {
     "data": {
      "text/html": [
       "'\"a\\\\nb\"'"
      ],
      "text/latex": [
       "'\"a\\textbackslash{}\\textbackslash{}nb\"'"
      ],
      "text/markdown": [
       "'\"a\\\\nb\"'"
      ],
      "text/plain": [
       "[1] \"\\\"a\\\\nb\\\"\""
      ]
     },
     "metadata": {},
     "output_type": "display_data"
    }
   ],
   "source": [
    "expr_text(\"a\\nb\")"
   ]
  },
  {
   "cell_type": "code",
   "execution_count": 39,
   "metadata": {},
   "outputs": [
    {
     "data": {
      "text/plain": [
       "<quosure>\n",
       "  expr: ^x\n",
       "  env:  global"
      ]
     },
     "metadata": {},
     "output_type": "display_data"
    }
   ],
   "source": [
    "quo(!!expr(x))"
   ]
  },
  {
   "cell_type": "code",
   "execution_count": 47,
   "metadata": {
    "scrolled": true
   },
   "outputs": [
    {
     "name": "stdout",
     "output_type": "stream",
     "text": [
      "<int: 1L, 2L, 3L>\n",
      "<function() NULL>\n"
     ]
    }
   ],
   "source": [
    "expr_print(1:3)\n",
    "expr_print(function() NULL)"
   ]
  },
  {
   "cell_type": "code",
   "execution_count": 49,
   "metadata": {},
   "outputs": [
    {
     "ename": "ERROR",
     "evalue": "Error in parse(text = x, srcfile = src): <text>:3:15: unexpected symbol\n2: expr_f <- ~list(!!(1 + 2))\n3: expr_interp(f)print\n                 ^\n",
     "output_type": "error",
     "traceback": [
      "Error in parse(text = x, srcfile = src): <text>:3:15: unexpected symbol\n2: expr_f <- ~list(!!(1 + 2))\n3: expr_interp(f)print\n                 ^\nTraceback:\n"
     ]
    }
   ],
   "source": [
    "expr_print(quote(1:3))\n",
    "expr_print(quote(function() NULL))\n"
   ]
  },
  {
   "cell_type": "code",
   "execution_count": 50,
   "metadata": {
    "scrolled": true
   },
   "outputs": [
    {
     "data": {
      "text/plain": [
       "~list(3)"
      ]
     },
     "metadata": {},
     "output_type": "display_data"
    }
   ],
   "source": [
    "f <- ~list(!!(1 + 2))\n",
    "expr_interp(f)"
   ]
  },
  {
   "cell_type": "code",
   "execution_count": 51,
   "metadata": {},
   "outputs": [
    {
     "data": {
      "text/plain": [
       "~list(~3, 3)"
      ]
     },
     "metadata": {},
     "output_type": "display_data"
    }
   ],
   "source": [
    "f <- ~list(~!!(1 + 2), !!(1 + 2))\n",
    "expr_interp(f)\n"
   ]
  },
  {
   "cell_type": "code",
   "execution_count": 52,
   "metadata": {},
   "outputs": [
    {
     "data": {
      "text/html": [
       "<pre class=language-r><code>function (x) \n",
       "{\n",
       "<span style=white-space:pre-wrap>    x &lt;- paste0(x, \"_suffix\")</span>\n",
       "<span style=white-space:pre-wrap>    toupper(x)</span>\n",
       "}</code></pre>"
      ],
      "text/latex": [
       "\\begin{minted}{r}\n",
       "function (x) \n",
       "\\{\n",
       "    x <- paste0(x, \"\\_suffix\")\n",
       "    toupper(x)\n",
       "\\}\n",
       "\\end{minted}"
      ],
      "text/markdown": [
       "```r\n",
       "function (x) \n",
       "{\n",
       "    x <- paste0(x, \"_suffix\")\n",
       "    toupper(x)\n",
       "}\n",
       "```"
      ],
      "text/plain": [
       "function (x) \n",
       "{\n",
       "    x <- paste0(x, \"_suffix\")\n",
       "    toupper(x)\n",
       "}"
      ]
     },
     "metadata": {},
     "output_type": "display_data"
    },
    {
     "data": {
      "text/html": [
       "'FOO_SUFFIX'"
      ],
      "text/latex": [
       "'FOO\\_SUFFIX'"
      ],
      "text/markdown": [
       "'FOO_SUFFIX'"
      ],
      "text/plain": [
       "[1] \"FOO_SUFFIX\""
      ]
     },
     "metadata": {},
     "output_type": "display_data"
    }
   ],
   "source": [
    "other_fn <- function(x) toupper(x)\n",
    "fn <- expr_interp(function(x) {\n",
    "x <- paste0(x, \"_suffix\")\n",
    "!!! body(other_fn)\n",
    "})\n",
    "fn\n",
    "fn(\"foo\")\n"
   ]
  },
  {
   "cell_type": "code",
   "execution_count": 53,
   "metadata": {},
   "outputs": [
    {
     "data": {
      "text/html": [
       "TRUE"
      ],
      "text/latex": [
       "TRUE"
      ],
      "text/markdown": [
       "TRUE"
      ],
      "text/plain": [
       "[1] TRUE"
      ]
     },
     "metadata": {},
     "output_type": "display_data"
    }
   ],
   "source": [
    "is_syntactic_literal(\"string\")"
   ]
  },
  {
   "cell_type": "code",
   "execution_count": 82,
   "metadata": {
    "scrolled": true
   },
   "outputs": [
    {
     "data": {
      "text/html": [
       "TRUE"
      ],
      "text/latex": [
       "TRUE"
      ],
      "text/markdown": [
       "TRUE"
      ],
      "text/plain": [
       "[1] TRUE"
      ]
     },
     "metadata": {},
     "output_type": "display_data"
    },
    {
     "data": {
      "text/html": [
       "TRUE"
      ],
      "text/latex": [
       "TRUE"
      ],
      "text/markdown": [
       "TRUE"
      ],
      "text/plain": [
       "[1] TRUE"
      ]
     },
     "metadata": {},
     "output_type": "display_data"
    },
    {
     "data": {
      "text/html": [
       "FALSE"
      ],
      "text/latex": [
       "FALSE"
      ],
      "text/markdown": [
       "FALSE"
      ],
      "text/plain": [
       "[1] FALSE"
      ]
     },
     "metadata": {},
     "output_type": "display_data"
    },
    {
     "data": {
      "text/html": [
       "FALSE"
      ],
      "text/latex": [
       "FALSE"
      ],
      "text/markdown": [
       "FALSE"
      ],
      "text/plain": [
       "[1] FALSE"
      ]
     },
     "metadata": {},
     "output_type": "display_data"
    }
   ],
   "source": [
    "q1 <- expr(\"1\")\n",
    "is_expression(q1)\n",
    "is_syntactic_literal(q1)\n",
    "is_symbol(q1)\n",
    "is_quosure(q1)"
   ]
  },
  {
   "cell_type": "code",
   "execution_count": 83,
   "metadata": {
    "scrolled": true
   },
   "outputs": [
    {
     "data": {
      "text/html": [
       "TRUE"
      ],
      "text/latex": [
       "TRUE"
      ],
      "text/markdown": [
       "TRUE"
      ],
      "text/plain": [
       "[1] TRUE"
      ]
     },
     "metadata": {},
     "output_type": "display_data"
    },
    {
     "data": {
      "text/html": [
       "FALSE"
      ],
      "text/latex": [
       "FALSE"
      ],
      "text/markdown": [
       "FALSE"
      ],
      "text/plain": [
       "[1] FALSE"
      ]
     },
     "metadata": {},
     "output_type": "display_data"
    },
    {
     "data": {
      "text/html": [
       "FALSE"
      ],
      "text/latex": [
       "FALSE"
      ],
      "text/markdown": [
       "FALSE"
      ],
      "text/plain": [
       "[1] FALSE"
      ]
     },
     "metadata": {},
     "output_type": "display_data"
    },
    {
     "data": {
      "text/html": [
       "TRUE"
      ],
      "text/latex": [
       "TRUE"
      ],
      "text/markdown": [
       "TRUE"
      ],
      "text/plain": [
       "[1] TRUE"
      ]
     },
     "metadata": {},
     "output_type": "display_data"
    }
   ],
   "source": [
    "q2 <- quo(x)\n",
    "is_expression(q2)\n",
    "is_syntactic_literal(q2)\n",
    "is_symbol(q2)\n",
    "is_quosure(q2)"
   ]
  },
  {
   "cell_type": "code",
   "execution_count": 73,
   "metadata": {
    "scrolled": true
   },
   "outputs": [
    {
     "data": {
      "text/html": [
       "TRUE"
      ],
      "text/latex": [
       "TRUE"
      ],
      "text/markdown": [
       "TRUE"
      ],
      "text/plain": [
       "[1] TRUE"
      ]
     },
     "metadata": {},
     "output_type": "display_data"
    },
    {
     "data": {
      "text/html": [
       "TRUE"
      ],
      "text/latex": [
       "TRUE"
      ],
      "text/markdown": [
       "TRUE"
      ],
      "text/plain": [
       "[1] TRUE"
      ]
     },
     "metadata": {},
     "output_type": "display_data"
    }
   ],
   "source": [
    "q3 <- quote(x + 1)\n",
    "is_expression(q3)\n",
    "is_call(q3)"
   ]
  },
  {
   "cell_type": "code",
   "execution_count": 75,
   "metadata": {
    "scrolled": true
   },
   "outputs": [
    {
     "data": {
      "text/html": [
       "TRUE"
      ],
      "text/latex": [
       "TRUE"
      ],
      "text/markdown": [
       "TRUE"
      ],
      "text/plain": [
       "[1] TRUE"
      ]
     },
     "metadata": {},
     "output_type": "display_data"
    },
    {
     "data": {
      "text/html": [
       "TRUE"
      ],
      "text/latex": [
       "TRUE"
      ],
      "text/markdown": [
       "TRUE"
      ],
      "text/plain": [
       "[1] TRUE"
      ]
     },
     "metadata": {},
     "output_type": "display_data"
    },
    {
     "data": {
      "text/html": [
       "FALSE"
      ],
      "text/latex": [
       "FALSE"
      ],
      "text/markdown": [
       "FALSE"
      ],
      "text/plain": [
       "[1] FALSE"
      ]
     },
     "metadata": {},
     "output_type": "display_data"
    },
    {
     "data": {
      "text/html": [
       "FALSE"
      ],
      "text/latex": [
       "FALSE"
      ],
      "text/markdown": [
       "FALSE"
      ],
      "text/plain": [
       "[1] FALSE"
      ]
     },
     "metadata": {},
     "output_type": "display_data"
    }
   ],
   "source": [
    "is_syntactic_literal(\"string\")\n",
    "is_syntactic_literal(NULL)\n",
    "is_syntactic_literal(letters)\n",
    "is_syntactic_literal(quote(call()))\n"
   ]
  },
  {
   "cell_type": "code",
   "execution_count": 76,
   "metadata": {},
   "outputs": [
    {
     "data": {
      "text/html": [
       "TRUE"
      ],
      "text/latex": [
       "TRUE"
      ],
      "text/markdown": [
       "TRUE"
      ],
      "text/plain": [
       "[1] TRUE"
      ]
     },
     "metadata": {},
     "output_type": "display_data"
    }
   ],
   "source": [
    "is_formula(~10)"
   ]
  },
  {
   "cell_type": "code",
   "execution_count": 77,
   "metadata": {},
   "outputs": [
    {
     "data": {
      "text/html": [
       "FALSE"
      ],
      "text/latex": [
       "FALSE"
      ],
      "text/markdown": [
       "FALSE"
      ],
      "text/plain": [
       "[1] FALSE"
      ]
     },
     "metadata": {},
     "output_type": "display_data"
    }
   ],
   "source": [
    "is_formula(10)"
   ]
  },
  {
   "cell_type": "code",
   "execution_count": 85,
   "metadata": {},
   "outputs": [
    {
     "data": {
      "text/plain": [
       "<quosure>\n",
       "  expr: ^wrapper(^wrappee)\n",
       "  env:  global"
      ]
     },
     "metadata": {},
     "output_type": "display_data"
    },
    {
     "data": {
      "text/plain": [
       "wrapper(wrappee)"
      ]
     },
     "metadata": {},
     "output_type": "display_data"
    }
   ],
   "source": [
    "quo <- quo(wrapper(!!quo(wrappee)))\n",
    "quo\n",
    "quo_squash(quo)"
   ]
  }
 ],
 "metadata": {
  "kernelspec": {
   "display_name": "R",
   "language": "R",
   "name": "ir"
  },
  "language_info": {
   "codemirror_mode": "r",
   "file_extension": ".r",
   "mimetype": "text/x-r-source",
   "name": "R",
   "pygments_lexer": "r",
   "version": "3.4.3"
  }
 },
 "nbformat": 4,
 "nbformat_minor": 2
}
